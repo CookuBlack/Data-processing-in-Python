{
 "cells": [
  {
   "cell_type": "markdown",
   "id": "6f355565",
   "metadata": {},
   "source": [
    "# numpy的基本使用"
   ]
  },
  {
   "cell_type": "code",
   "execution_count": 136,
   "id": "48412eb8",
   "metadata": {},
   "outputs": [],
   "source": [
    "# 导入numpy模块\n",
    "import numpy as np"
   ]
  },
  {
   "cell_type": "markdown",
   "id": "4b8fdd56",
   "metadata": {},
   "source": [
    "## 1.将列表转换为矩阵"
   ]
  },
  {
   "cell_type": "code",
   "execution_count": 137,
   "id": "0f90a8bf",
   "metadata": {},
   "outputs": [
    {
     "data": {
      "text/plain": [
       "array([[1, 2, 3],\n",
       "       [2, 3, 4]])"
      ]
     },
     "execution_count": 137,
     "metadata": {},
     "output_type": "execute_result"
    }
   ],
   "source": [
    "array = np.array([[1, 2, 3], [2, 3, 4]])\n",
    "array"
   ]
  },
  {
   "cell_type": "code",
   "execution_count": 138,
   "id": "f201f4f3",
   "metadata": {},
   "outputs": [
    {
     "name": "stdout",
     "output_type": "stream",
     "text": [
      "维度： 2\n",
      "形状： (2, 3)\n",
      "数量： 6\n"
     ]
    }
   ],
   "source": [
    "# 查看维度：array.ndim\n",
    "# 查看每一维的大小： array.shape\n",
    "# 查看一共有多少个元素： array.size\n",
    "\n",
    "print('维度：', array.ndim)\n",
    "print('形状：', array.shape)\n",
    "print('数量：', array.size)"
   ]
  },
  {
   "cell_type": "markdown",
   "id": "8dbabee9",
   "metadata": {},
   "source": [
    "## 2. 创建array"
   ]
  },
  {
   "cell_type": "code",
   "execution_count": 139,
   "id": "cf2d423c",
   "metadata": {},
   "outputs": [
    {
     "data": {
      "text/plain": [
       "dtype('float64')"
      ]
     },
     "execution_count": 139,
     "metadata": {},
     "output_type": "execute_result"
    }
   ],
   "source": [
    "a = np.array([2, 23, 4], dtype = np.float_)\n",
    "a.dtype  # 查看a数组的数据类型"
   ]
  },
  {
   "cell_type": "code",
   "execution_count": 140,
   "id": "561e42be",
   "metadata": {},
   "outputs": [
    {
     "name": "stdout",
     "output_type": "stream",
     "text": [
      "a= [[0. 0. 0. 0.]\n",
      " [0. 0. 0. 0.]\n",
      " [0. 0. 0. 0.]]\n",
      "\n",
      "b= [[1 1 1 1]\n",
      " [1 1 1 1]\n",
      " [1 1 1 1]]\n",
      "\n",
      "c= [[0. 0. 0. 0.]\n",
      " [0. 0. 0. 0.]\n",
      " [0. 0. 0. 0.]]\n",
      "\n",
      "d= [10 12 14 16 18]\n",
      "\n",
      "e= [[ 0  1  2  3]\n",
      " [ 4  5  6  7]\n",
      " [ 8  9 10 11]]\n",
      "\n",
      "f= [ 1.   2.8  4.6  6.4  8.2 10. ]\n",
      "\n",
      "g= [[ 1.   2.8  4.6]\n",
      " [ 6.4  8.2 10. ]]\n"
     ]
    }
   ],
   "source": [
    "# 定义3行4列的零矩阵\n",
    "a = np.zeros((3, 4))\n",
    "\n",
    "# 定义3行4列的单位矩阵\n",
    "b = np.ones((3, 4), dtype=np.int16)\n",
    "\n",
    "# 生成空矩阵（每一个元素接近零）\n",
    "c = np.empty((3, 4), dtype=np.float_)\n",
    "\n",
    "# 生成从10 - 20之间的数，步长为2\n",
    "d = np.arange(10, 20, 2)\n",
    "\n",
    "# 从新定义行列数，这里为3行4列\n",
    "e = np.arange(12).reshape((3, 4))\n",
    "\n",
    "# 从固定区间进行取数(这里是从1 - 10 之间取6个数)\n",
    "f = np.linspace(1, 10, 6)\n",
    "# 重新定义矩阵形状\n",
    "g = np.linspace(1, 10, 6).reshape((2, 3))\n",
    "\n",
    "\n",
    "\n",
    "# 进行输出\n",
    "print('a=', a, end = '\\n\\n')\n",
    "print('b=', b, end = '\\n\\n')\n",
    "print('c=', c, end = '\\n\\n')\n",
    "print('d=', d, end = '\\n\\n')\n",
    "print('e=', e, end = '\\n\\n')\n",
    "print('f=', f, end = '\\n\\n')\n",
    "print('g=', g)"
   ]
  },
  {
   "cell_type": "markdown",
   "id": "6a2d0a0a",
   "metadata": {},
   "source": [
    "## 3.numpy的基础运算"
   ]
  },
  {
   "cell_type": "code",
   "execution_count": 141,
   "id": "691ca874",
   "metadata": {},
   "outputs": [
    {
     "name": "stdout",
     "output_type": "stream",
     "text": [
      "a + b =  [[3 4 6]\n",
      " [5 6 8]]\n",
      "\n",
      "a - b =  [[-1  0  0]\n",
      " [-1  0  0]]\n",
      "\n",
      "a * b =  [[ 2  4  9]\n",
      " [ 6  9 16]]\n",
      "\n",
      "a ** 2 =  [[ 1  4  9]\n",
      " [ 4  9 16]]\n",
      "\n"
     ]
    }
   ],
   "source": [
    "# a+b  a-b  a*b  a**2\n",
    "a = np.array([[1, 2, 3], [2, 3, 4]])\n",
    "b = np.array([[2, 2, 3], [3, 3, 4]])\n",
    "\n",
    "print('a + b = ', a+b, end = '\\n\\n')   # 对应相加\n",
    "print('a - b = ', a-b, end = '\\n\\n')   # 对应相减\n",
    "print('a * b = ', a*b, end = '\\n\\n')   # 对应相乘\n",
    "print('a ** 2 = ', a**2, end = '\\n\\n')   # 每一项取平方"
   ]
  },
  {
   "cell_type": "code",
   "execution_count": 142,
   "id": "be6e3790",
   "metadata": {},
   "outputs": [
    {
     "name": "stdout",
     "output_type": "stream",
     "text": [
      "a = [[1 2 3]\n",
      " [2 3 4]]\n",
      "\n",
      "[[ True  True False]\n",
      " [ True False False]]\n"
     ]
    }
   ],
   "source": [
    "print('a =', a)\n",
    "print()\n",
    "# 返回a中的列表，其中小于3的为True，否则为False\n",
    "print(a<3)"
   ]
  },
  {
   "cell_type": "code",
   "execution_count": 143,
   "id": "7826948a",
   "metadata": {},
   "outputs": [
    {
     "name": "stdout",
     "output_type": "stream",
     "text": [
      "a =  [[1 2 3]\n",
      " [4 5 6]] \n",
      "\n",
      "b =  [[2]\n",
      " [2]\n",
      " [2]]\n",
      "\n",
      "c = a * b.T \n",
      " [[12]\n",
      " [30]]\n",
      "\n",
      "c = a * b.T \n",
      " [[12]\n",
      " [30]]\n"
     ]
    }
   ],
   "source": [
    "# 矩阵运算\n",
    "a = np.array([[1, 2, 3], [4, 5, 6]])\n",
    "b = np.array([[2],[2],[2]])\n",
    "print('a = ', a, '\\n\\nb = ', b, end = '\\n\\n')\n",
    "c = np.dot(a,b)\n",
    "print('c = a * b.T \\n', c, end = '\\n\\n')\n",
    "c = a.dot(b)\n",
    "print('c = a * b.T \\n', c)"
   ]
  },
  {
   "cell_type": "code",
   "execution_count": 144,
   "id": "dbc2afbe",
   "metadata": {},
   "outputs": [
    {
     "name": "stdout",
     "output_type": "stream",
     "text": [
      "A的转置为：\n",
      " [[1 2]\n",
      " [1 2]\n",
      " [1 2]\n",
      " [1 2]]\n",
      "A的转置为：\n",
      " [[1 2]\n",
      " [1 2]\n",
      " [1 2]\n",
      " [1 2]]\n",
      "矩阵乘法：\n",
      " [[5 5 5 5]\n",
      " [5 5 5 5]\n",
      " [5 5 5 5]\n",
      " [5 5 5 5]]\n"
     ]
    }
   ],
   "source": [
    "# 矩阵的转置\n",
    "print('A的转置为：\\n', A.T)\n",
    "print('A的转置为：\\n', np.transpose(A))\n",
    "# 矩阵乘法\n",
    "print('矩阵乘法：\\n', (A.T).dot(A))"
   ]
  },
  {
   "cell_type": "markdown",
   "id": "dc767671",
   "metadata": {},
   "source": [
    "## 4.矩阵的整体操作"
   ]
  },
  {
   "cell_type": "code",
   "execution_count": 159,
   "id": "38b83102",
   "metadata": {},
   "outputs": [
    {
     "data": {
      "text/plain": [
       "array([[-0.5036579 , -0.0926053 ,  0.11579971, -0.62858367],\n",
       "       [-0.7264121 ,  0.08098014,  0.36850943, -1.70704922]])"
      ]
     },
     "execution_count": 159,
     "metadata": {},
     "output_type": "execute_result"
    }
   ],
   "source": [
    "# 通过本函数可以返回一个或一组服从标准正态分布的随机样本值\n",
    "a = np.random.randn(2, 4)\n",
    "a"
   ]
  },
  {
   "cell_type": "code",
   "execution_count": 160,
   "id": "38428c7b",
   "metadata": {},
   "outputs": [
    {
     "data": {
      "text/plain": [
       "array([[0.6619832 , 0.11911029, 0.65091136, 0.82416484],\n",
       "       [0.02031253, 0.79767728, 0.20401062, 0.04177075]])"
      ]
     },
     "execution_count": 160,
     "metadata": {},
     "output_type": "execute_result"
    }
   ],
   "source": [
    "# 在0 - 1 之间随机取数，生成2行4列矩阵\n",
    "a = np.random.random((2, 4))\n",
    "a"
   ]
  },
  {
   "cell_type": "code",
   "execution_count": 146,
   "id": "08e47d3d",
   "metadata": {},
   "outputs": [
    {
     "name": "stdout",
     "output_type": "stream",
     "text": [
      "矩阵中的所有数之和： 3.1065747185237615\n",
      "矩阵中的最小值： 0.015966383011372542\n",
      "矩阵中的最大值： 0.990287900155956\n",
      "每一行的所有数之和： [1.08196238 2.02461233]\n",
      "每一列中的最小值： [0.02759403 0.01596638 0.11194135 0.6881923 ]\n",
      "每一行中的最大值： [0.6881923 0.9902879]\n"
     ]
    }
   ],
   "source": [
    "# 求矩阵中的所有数之和\n",
    "c = np.sum(a)\n",
    "print('矩阵中的所有数之和：', c)\n",
    "\n",
    "# 求矩阵中的最小值\n",
    "c = np.min(a)\n",
    "print('矩阵中的最小值：', c)\n",
    "\n",
    "# 求矩阵中的最大值\n",
    "c = np.max(a)\n",
    "print('矩阵中的最大值：', c)\n",
    "\n",
    "# 返回每一行中的所有数之和\n",
    "c = np.sum(a, axis = 1)\n",
    "print('每一行的所有数之和：', c)\n",
    "# 返回每一列中的最小值\n",
    "c = np.min(a, axis = 0)\n",
    "print('每一列中的最小值：', c)\n",
    "# 返回每一行中的最大值\n",
    "c = np.max(a, axis = 1)\n",
    "print('每一行中的最大值：', c)"
   ]
  },
  {
   "cell_type": "code",
   "execution_count": 147,
   "id": "dc9e652b",
   "metadata": {},
   "outputs": [
    {
     "data": {
      "text/plain": [
       "array([[ 2,  3,  4,  5],\n",
       "       [ 6,  7,  8,  9],\n",
       "       [10, 11, 12, 13]])"
      ]
     },
     "execution_count": 147,
     "metadata": {},
     "output_type": "execute_result"
    }
   ],
   "source": [
    "# 重新设定A 为从 2 - 14 (左闭右开) 中选取数，步长为1 一共12个数，并设定形状为3行4列\n",
    "A = np.arange(2, 14).reshape((3, 4))\n",
    "A"
   ]
  },
  {
   "cell_type": "code",
   "execution_count": 148,
   "id": "2fbae003",
   "metadata": {},
   "outputs": [
    {
     "name": "stdout",
     "output_type": "stream",
     "text": [
      "A中最小值的索引： 0\n",
      "A中最小值的索引： 0\n",
      "A中每一行中的最小值索引： [0 0 0]\n",
      "A的平均值： 7.5\n",
      "A的平均值： 7.5\n",
      "A的中位数： 7.5\n",
      "A的前n项和： [ 2  5  9 14 20 27 35 44 54 65 77 90]\n",
      "A的前n项和： [ 2  5  9 14 20 27 35 44 54 65 77 90]\n",
      "每两个数之间的差： [[1 1 1]\n",
      " [1 1 1]\n",
      " [1 1 1]]\n",
      "A中值不为0的索引： (array([0, 0, 0, 0, 1, 1, 1, 1, 2, 2, 2, 2], dtype=int64), array([0, 1, 2, 3, 0, 1, 2, 3, 0, 1, 2, 3], dtype=int64))\n",
      "A中值不为0的索引： (array([0, 0, 0, 0, 1, 1, 1, 1, 2, 2, 2, 2], dtype=int64), array([0, 1, 2, 3, 0, 1, 2, 3, 0, 1, 2, 3], dtype=int64))\n",
      "逐行排序后的结果：\n",
      " [[ 2  3  4  5]\n",
      " [ 6  7  8  9]\n",
      " [10 11 12 13]]\n"
     ]
    }
   ],
   "source": [
    "# 返回A中最小值的索引\n",
    "minIdx = np.argmin(A)\n",
    "print('A中最小值的索引：', minIdx)\n",
    "minIdx = A.argmin()\n",
    "print('A中最小值的索引：', minIdx)\n",
    "# 返回A中每一行中最小值的索引\n",
    "minIdx = np.argmin(A, axis = 1)\n",
    "print('A中每一行中的最小值索引：', minIdx)\n",
    "\n",
    "# 返回A中最大值\n",
    "maxIdx = np.argmax(A)\n",
    "\n",
    "maxIdx = A.argmax()\n",
    "\n",
    "\n",
    "# 求平均值\n",
    "print('A的平均值：', np.mean(A))\n",
    "print('A的平均值：', A.mean())\n",
    "\n",
    "# 求中位数\n",
    "print('A的中位数：', np.median(A))\n",
    "# 求前n项和\n",
    "print('A的前n项和：', np.cumsum(A))\n",
    "print('A的前n项和：', A.cumsum())\n",
    "\n",
    "# 返回每两个数之间的差\n",
    "print('每两个数之间的差：', np.diff(A))\n",
    "\n",
    "# 返回不是0的索引\n",
    "nZeroIdx = np.nonzero(A)\n",
    "print('A中值不为0的索引：', nZeroIdx)\n",
    "nZeroIdx = A.nonzero()\n",
    "print('A中值不为0的索引：', nZeroIdx)\n",
    "\n",
    "# 对列表逐行进行排序\n",
    "print('逐行排序后的结果：\\n', np.sort(A))"
   ]
  },
  {
   "cell_type": "code",
   "execution_count": 149,
   "id": "a049c621",
   "metadata": {},
   "outputs": [
    {
     "name": "stdout",
     "output_type": "stream",
     "text": [
      "矩阵的转换：\n",
      " [[5 5 5 5]\n",
      " [6 7 8 9]\n",
      " [9 9 9 9]]\n"
     ]
    }
   ],
   "source": [
    "# 矩阵整体转换\n",
    "# 将矩阵A中所有小于5的都转换为5，大于9的都转换为9\n",
    "print('矩阵的转换：\\n', np.clip(A, 5, 9))"
   ]
  },
  {
   "cell_type": "markdown",
   "id": "41cf9907",
   "metadata": {},
   "source": [
    "## 5.矩阵的索引与切片"
   ]
  },
  {
   "cell_type": "code",
   "execution_count": 150,
   "id": "8c6752a3",
   "metadata": {},
   "outputs": [
    {
     "name": "stdout",
     "output_type": "stream",
     "text": [
      "a =  [[ 1  2  3  4]\n",
      " [ 5  6  7  8]\n",
      " [ 9 10 11 12]\n",
      " [13 14 15 16]]\n",
      "\n",
      "二维第4行： [13 14 15 16]\n",
      "一维第4个位置： 16\n",
      "第2行第2个位置： 6\n",
      "第2行所有列 [5 6 7 8]\n",
      "第2列所有行 [ 2  6 10 14]\n",
      "第2行的2 - 3 列 [6 7]\n"
     ]
    }
   ],
   "source": [
    "a = np.arange(1, 17, 1).reshape(4, 4)\n",
    "print('a = ', a, end = '\\n\\n')\n",
    "# 一维索引输出第4个位置，二维输出第4行\n",
    "temp = a[3]\n",
    "print('二维第4行：', temp)\n",
    "print('一维第4个位置：', temp[3])\n",
    "# 索引第2行第2个位置\n",
    "print('第2行第2个位置：', a[1][1])\n",
    "\n",
    "# 第2行所有列\n",
    "print('第2行所有列', a[1, :])\n",
    "# 第2列所有行\n",
    "print('第2列所有行', a[:, 1])\n",
    "\n",
    "# 第2行的2 - 3 列\n",
    "print('第2行的2 - 3 列', a[1, 1:3])"
   ]
  },
  {
   "cell_type": "markdown",
   "id": "337130b6",
   "metadata": {},
   "source": [
    "## 6.对矩阵进行迭代"
   ]
  },
  {
   "cell_type": "code",
   "execution_count": 151,
   "id": "1d9a354a",
   "metadata": {},
   "outputs": [
    {
     "name": "stdout",
     "output_type": "stream",
     "text": [
      "a =  [[ 1  2  3  4]\n",
      " [ 5  6  7  8]\n",
      " [ 9 10 11 12]\n",
      " [13 14 15 16]]\n",
      "\n",
      "1\n",
      "2\n",
      "3\n",
      "4\n",
      "5\n",
      "6\n",
      "7\n",
      "8\n",
      "9\n",
      "10\n",
      "11\n",
      "12\n",
      "13\n",
      "14\n",
      "15\n",
      "16\n",
      "--------------------------------------------------\n",
      "2\n",
      "3\n",
      "4\n",
      "5\n",
      "6\n",
      "7\n",
      "8\n",
      "9\n",
      "10\n",
      "11\n",
      "12\n",
      "13\n",
      "[ 1  2  3  4  5  6  7  8  9 10 11 12 13 14 15 16] <class 'numpy.ndarray'>\n"
     ]
    }
   ],
   "source": [
    "a = np.arange(1, 17, 1).reshape(4, 4)\n",
    "print('a = ', a, end = '\\n\\n')\n",
    "# 直接进行迭代输出(首先是输出每一行)\n",
    "for rows in a:\n",
    "#     print(rows)\n",
    "    for elem in rows:\n",
    "        print(elem)\n",
    "        \n",
    "print('-' * 50)\n",
    "# 将A的所有元素变为1行(这里返回的是一个迭代器)\n",
    "for elemt in A.flat:\n",
    "    print(elemt)\n",
    "    \n",
    "# 将A的所有元素变为1行（这里返回的是一个numpy.ndarray类型多为数组）\n",
    "aFlatten = a.flatten()\n",
    "print(aFlatten, type(aFlatten))"
   ]
  },
  {
   "cell_type": "markdown",
   "id": "03f84eaf",
   "metadata": {},
   "source": [
    "## 7.array的合并"
   ]
  },
  {
   "cell_type": "code",
   "execution_count": 152,
   "id": "cbde6f5b",
   "metadata": {},
   "outputs": [
    {
     "name": "stdout",
     "output_type": "stream",
     "text": [
      "A, B 进行上下合并\n",
      " [[1 1 1]\n",
      " [2 2 2]]\n",
      "A, B 进行左右合并\n",
      " [1 1 1 2 2 2]\n",
      "将A添加维度转换为列向量:\n",
      " [[1]\n",
      " [1]\n",
      " [1]]\n",
      "A, B 进行上下合并 [1 1 1 2 2 2 2 2 2 1 1 1]\n"
     ]
    }
   ],
   "source": [
    "A = np.array([1, 1, 1])\n",
    "B = np.array([2, 2, 2])\n",
    "\n",
    " # 将A, B 进行上下合并\n",
    "C = np.vstack((A, B))  \n",
    "print('A, B 进行上下合并\\n', C)\n",
    "# 将A, B 进行左右合并\n",
    "C = np.hstack((A, B))  \n",
    "print('A, B 进行左右合并\\n', C)\n",
    "# 将A添加维度转换为列向量\n",
    "C = A[:, np.newaxis]   \n",
    "print('将A添加维度转换为列向量:\\n', C)\n",
    "\n",
    "# 将A, B 进行上下合并\n",
    "C = np.concatenate((A, B, B, A), axis = 0)\n",
    "print('A, B 进行上下合并', C)"
   ]
  },
  {
   "cell_type": "markdown",
   "id": "39266f5c",
   "metadata": {},
   "source": [
    "## 8.array分割"
   ]
  },
  {
   "cell_type": "code",
   "execution_count": 153,
   "id": "cc5b02fe",
   "metadata": {},
   "outputs": [
    {
     "name": "stdout",
     "output_type": "stream",
     "text": [
      "将A按行分成两块:  [array([[1, 1, 1, 1]]), array([[2, 2, 2, 2]])]\n",
      "将A按列分为三块：\n",
      " [array([[1, 1],\n",
      "       [2, 2]]), array([[1],\n",
      "       [2]]), array([[1],\n",
      "       [2]])]\n",
      "[array([[1, 1, 1, 1]]), array([[2, 2, 2, 2]])]\n",
      "[array([[1, 1],\n",
      "       [2, 2]]), array([[1, 1],\n",
      "       [2, 2]])]\n"
     ]
    }
   ],
   "source": [
    "A = np.array([[1, 1, 1, 1], [2, 2, 2, 2]])\n",
    "B = np.array([2, 2, 2])\n",
    "\n",
    "# 将A分成两块，按行进行分割，切割X轴\n",
    "print('将A按行分成两块: ', np.split(A, 2, axis = 0))\n",
    "\n",
    "# 将A按列进行不等分割(切割y轴)\n",
    "print('将A按列分为三块：\\n', np.array_split(A, 3, axis = 1))\n",
    "\n",
    "# 将A横向分割为3块\n",
    "print(np.vsplit(A, 2))\n",
    "# 将A纵向分为2块\n",
    "print(np.hsplit(A, 2))"
   ]
  },
  {
   "cell_type": "markdown",
   "id": "922e1037",
   "metadata": {},
   "source": [
    "## 9.赋值操作"
   ]
  },
  {
   "cell_type": "code",
   "execution_count": 154,
   "id": "e3b75de5",
   "metadata": {},
   "outputs": [
    {
     "name": "stdout",
     "output_type": "stream",
     "text": [
      "a= \n",
      " [0 1 2 3]\n",
      "b = a\n",
      " [0 1 2 3]\n",
      "c = a\n",
      " [0 1 2 3]\n",
      "a = [11  1  2  3] b = [11  1  2  3] c = [11  1  2  3]\n"
     ]
    }
   ],
   "source": [
    "a = np.arange(4)\n",
    "print('a= \\n', a)\n",
    "b= a    # 这里的b只是指向了a\n",
    "print('b = a\\n', b)\n",
    "c = a   # 这里的c只是指向了a\n",
    "print('c = a\\n', c)\n",
    "a[0] = 11\n",
    "# 改变了a的同时，b和c也被改变了\n",
    "print('a =', a, 'b =', b, 'c =', c)\n",
    "\n"
   ]
  },
  {
   "cell_type": "code",
   "execution_count": 156,
   "id": "a9b01975",
   "metadata": {},
   "outputs": [
    {
     "name": "stdout",
     "output_type": "stream",
     "text": [
      "a = [0 1 2 3] b = [0 1 2 3]\n",
      "a = [100   1   2   3] b = [0 1 2 3]\n"
     ]
    }
   ],
   "source": [
    "# 将a进行拷贝给b\n",
    "a = np.arange(4)\n",
    "# 这里的b是一片新的内存空间，将a进行了拷贝\n",
    "b = a.copy()\n",
    "print('a =', a, 'b =', b)\n",
    "# 改变了a但是b没有改变\n",
    "a[0] = 100\n",
    "print('a =', a, 'b =', b)"
   ]
  },
  {
   "cell_type": "code",
   "execution_count": null,
   "id": "f7b51e18",
   "metadata": {},
   "outputs": [],
   "source": []
  }
 ],
 "metadata": {
  "kernelspec": {
   "display_name": "Python 3 (ipykernel)",
   "language": "python",
   "name": "python3"
  },
  "language_info": {
   "codemirror_mode": {
    "name": "ipython",
    "version": 3
   },
   "file_extension": ".py",
   "mimetype": "text/x-python",
   "name": "python",
   "nbconvert_exporter": "python",
   "pygments_lexer": "ipython3",
   "version": "3.11.5"
  }
 },
 "nbformat": 4,
 "nbformat_minor": 5
}
